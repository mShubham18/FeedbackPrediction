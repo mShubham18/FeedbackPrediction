{
 "cells": [
  {
   "cell_type": "code",
   "execution_count": null,
   "metadata": {},
   "outputs": [],
   "source": [
    "import sqlite3\n",
    "import pandas as pd\n",
    "import os\n",
    "from dotenv import load_dotenv\n",
    "load_dotenv()\n",
    "DB_PATH = os.getenv(\"DB_PATH\")\n",
    "conn = sqlite3.connect(\"data/database.db\")\n",
    "cursor = conn.cursor()\n",
    "cursor.execute(\"SELECT Feedback, Output FROM Corpus\")\n",
    "data = cursor.fetchall()\n",
    "message, output = zip(*data)\n",
    "df = pd.DataFrame({\"Message\":message,\"output\":output})\n"
   ]
  },
  {
   "cell_type": "code",
   "execution_count": null,
   "metadata": {},
   "outputs": [],
   "source": [
    "cursor.execute(\"SELECT Feedback, Output FROM Corpus\")\n",
    "data = cursor.fetchall()\n",
    "message, output = zip(*data)\n",
    "df = pd.DataFrame({\"Message\":message,\"output\":output})\n"
   ]
  },
  {
   "cell_type": "code",
   "execution_count": 13,
   "metadata": {},
   "outputs": [],
   "source": [
    "df = pd.DataFrame({\"Message\":message,\"output\":output})"
   ]
  },
  {
   "cell_type": "code",
   "execution_count": null,
   "metadata": {},
   "outputs": [
    {
     "data": {
      "text/plain": [
       "'teacher are punctual but they should also give us the some practical knowledge other than theortical'"
      ]
     },
     "execution_count": 16,
     "metadata": {},
     "output_type": "execute_result"
    }
   ],
   "source": []
  },
  {
   "cell_type": "code",
   "execution_count": null,
   "metadata": {},
   "outputs": [],
   "source": []
  }
 ],
 "metadata": {
  "kernelspec": {
   "display_name": "Python 3",
   "language": "python",
   "name": "python3"
  },
  "language_info": {
   "codemirror_mode": {
    "name": "ipython",
    "version": 3
   },
   "file_extension": ".py",
   "mimetype": "text/x-python",
   "name": "python",
   "nbconvert_exporter": "python",
   "pygments_lexer": "ipython3",
   "version": "3.12.9"
  }
 },
 "nbformat": 4,
 "nbformat_minor": 2
}
